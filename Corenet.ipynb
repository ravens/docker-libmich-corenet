{
 "cells": [
  {
   "cell_type": "markdown",
   "metadata": {},
   "source": [
    "### setting up dependencies from corenet"
   ]
  },
  {
   "cell_type": "code",
   "execution_count": 46,
   "metadata": {},
   "outputs": [],
   "source": [
    "from pycrate_core.repr          import *\n",
    "from pycrate_corenet.utils      import *\n",
    "from pycrate_corenet.Server     import CorenetServer\n",
    "from pycrate_corenet.ServerGTPU import ARPd, GTPUd, MOD, DNSRESP, TCPSYNACK, BLACKHOLE_LAN, BLACKHOLE_WAN\n",
    "from pycrate_corenet.ServerAuC  import AuC\n",
    "from pycrate_corenet.ServerSMS  import SMSd\n",
    "from pycrate_corenet.HdlrHNB    import HNBd\n",
    "from pycrate_corenet.HdlrENB    import ENBd\n",
    "from pycrate_corenet.HdlrUE     import UEd\n",
    "from pycrate_corenet.HdlrUEIuCS import UEIuCSd, UEMMd, UECCd, UESSd\n",
    "from pycrate_corenet.HdlrUEIuPS import UEIuPSd, UEGMMd, UESMd\n",
    "from pycrate_corenet.HdlrUESMS  import UESMSd\n",
    "from pycrate_corenet.HdlrUES1   import UES1d, UEEMMd, UEESMd\n",
    "from pycrate_corenet import ProcCNHnbap\n",
    "from pycrate_corenet import ProcCNRua\n",
    "from pycrate_corenet import ProcCNRanap\n",
    "from pycrate_corenet import ProcCNS1ap\n",
    "from pycrate_corenet import ProcCNMM\n",
    "from pycrate_corenet import ProcCNSMS\n",
    "from pycrate_corenet import ProcCNGMM\n",
    "from pycrate_corenet import ProcCNSM\n",
    "from pycrate_corenet import ProcCNEMM\n",
    "from pycrate_corenet import ProcCNESM\n",
    "import socket\n",
    "import os\n",
    "CorenetServer.DEBUG   = ('ERR', 'WNG', 'INF', 'DBG')\n",
    "AuC.DEBUG             = ('ERR', 'WNG', 'INF', 'DBG')\n",
    "ARPd.DEBUG            = ('ERR', 'WNG', 'INF', 'DBG')\n",
    "GTPUd.DEBUG           = ('ERR', 'WNG', 'INF', 'DBG')\n",
    "SMSd.DEBUG            = ('ERR', 'WNG', 'INF', 'DBG')"
   ]
  },
  {
   "cell_type": "markdown",
   "metadata": {},
   "source": [
    "### Setting up the binding IP address for the MME and GTP endpoints"
   ]
  },
  {
   "cell_type": "code",
   "execution_count": 47,
   "metadata": {},
   "outputs": [],
   "source": [
    "LOCAL_IP=socket.gethostbyname(socket.gethostname())\n",
    "CorenetServer.SERVER_ENB['IP']   = LOCAL_IP\n",
    "CorenetServer.SERVER_ENB['port'] = 36412 # SCTP port for S1AP protocol\n",
    "CorenetServer.SERVER_ENB['GTPU'] = LOCAL_IP\n",
    "\n",
    "CorenetServer.SERVER_HNB['IP']   = LOCAL_IP\n",
    "CorenetServer.SERVER_HNB['port'] = 29169 # SCTP port for HNBAP and RUA protocols\n",
    "\n",
    "### external interfaces (toward Internet or other service networks)\n",
    "\n",
    "# ARPd interface info\n",
    "#ARPd.GGSN_ETH_IF     = 'eth0'\n",
    "#ARPd.GGSN_MAC_ADDR   = '08:00:00:01:02:03'\n",
    "#ARPd.GGSN_IP_ADDR    = '192.168.1.100'\n",
    "# ARPd LAN prefix and router info\n",
    "#ARPd.SUBNET_PREFIX   = '192.168.1.0/24'\n",
    "#ARPd.ROUTER_MAC_ADDR = 'f4:00:00:01:02:03'\n",
    "#ARPd.ROUTER_IP_ADDR  = '192.168.1.1'\n",
    "## set of IP addresses dedicated to UEs\n",
    "#ARPd.IP_POOL = set()\n",
    "#for i in range(149, 250):\n",
    "#    ARPd.IP_POOL.add('192.168.1.%i' % i)\n",
    "\n",
    "## GTPUd interface info\n",
    "#GTPUd.EXT_IF         = ARPd.GGSN_ETH_IF\n",
    "#GTPUd.EXT_MAC_ADDR   = ARPd.GGSN_MAC_ADDR\n",
    "## IPv6 network prefix\n",
    "#GTPUd.EXT_IPV6_PREF  = '2001:123:456:abcd'\n",
    "## GTPUd BLACKHOLING feature\n",
    "## to enable the blackholing of UE LAN / WAN traffic, set the appropriate flag(s)\n",
    "#GTPUd.BLACKHOLING    = 0\n",
    "#GTPUd.WL_ACTIVE      = False\n",
    "##GTPUd.BLACKHOLING    = BLACKHOLE_WAN\n",
    "##GTPUd.BLACKHOLING    = BLACKHOLE_LAN | BLACKHOLE_WAN\n",
    "##GTPUd.WL_ACTIVE      = True\n",
    "##GTPUd.WL_PORTS       = [('UDP', 53), ('UDP', 123)]\n",
    "## GTPUd to generate statistics for each UE's source IP address\n",
    "#GTPUd.DPI            = True\n",
    "## GTPUd to drop uplink packet with spoofed source IP address\n",
    "##GTPUd.DROP_SPOOF     = True\n",
    "GTPUd.GTP_PORT       = 2152 # UDP port for GTP-U protocol\n",
    "GTPUd.GTP_IF         = (CorenetServer.SERVER_HNB['GTPU'],\n",
    "                        CorenetServer.SERVER_ENB['GTPU'], )"
   ]
  },
  {
   "cell_type": "markdown",
   "metadata": {},
   "source": [
    "### Authentication of UEs"
   ]
  },
  {
   "cell_type": "code",
   "execution_count": 48,
   "metadata": {},
   "outputs": [],
   "source": [
    "AuC.OP = b'63bfa50ee6523365ff14c1f45f88737d'\n",
    "AuC.AUC_DB_PATH = \"/root/corenet/\"\n",
    "CorenetServer.ConfigUE = {\n",
    "    '001010000000001': {\n",
    "        'USIM'  : True,\n",
    "        'MSISDN': '012345',\n",
    "        'PDP'   : [('*', 1, '192.168.1.151'),\n",
    "                   ('corenet', 3, '192.168.1.151', GTPUd.EXT_IPV6_PREF + ':0:1:0:97')],\n",
    "        'PDN'   : [('*', 1, '192.168.1.151'),\n",
    "                   ('corenet', 3, '192.168.1.151', '0:1:0:97')]\n",
    "        },\n",
    "    '001010000000002': {\n",
    "        'USIM'  : True,\n",
    "        'MSISDN': '012346',\n",
    "        'PDP'   : [('*', 1, '192.168.1.152'),\n",
    "                   ('corenet', 3, '192.168.1.152', GTPUd.EXT_IPV6_PREF + ':0:1:0:98')],\n",
    "        'PDN'   : [('*', 1, '192.168.1.152'),\n",
    "                   ('corenet', 3, '192.168.1.152', '0:1:0:98')]\n",
    "        }\n",
    "}\n",
    "CorenetServer.UE_ATTACH_FILTER = None\n",
    "CorenetServer.ConfigUE['*'] = {\n",
    "        'USIM'  : True,\n",
    "        'MSISDN': '000111',\n",
    "        'PDP'   : [('*', 1, '192.168.1.149'),\n",
    "                   ('corenet', 3, '192.168.1.149', GTPUd.EXT_IPV6_PREF + ':0:1:0:95')],\n",
    "        'PDN'   : [('*', 1, '192.168.1.149'),\n",
    "                   ('corenet', 3, '192.168.1.149', '0:1:0:95')]\n",
    "}"
   ]
  },
  {
   "cell_type": "markdown",
   "metadata": {},
   "source": [
    "### PLMN and core network parameters"
   ]
  },
  {
   "cell_type": "code",
   "execution_count": 49,
   "metadata": {},
   "outputs": [],
   "source": [
    "CorenetServer.PLMN = '72207'\n",
    "CorenetServer.EQUIV_PLMN = None\n",
    "CorenetServer.RAN = {}\n",
    "CorenetServer.RAN_CONNECT_ANY = True\n",
    "CorenetServer.RAN_ALLOWED_PLMN = [CorenetServer.PLMN]\n",
    "CorenetServer.EMERG_NUMS = None\n",
    "CorenetServer.MME_GID  = 1\n",
    "CorenetServer.MME_CODE = 1\n",
    "CorenetServer.ConfigS1 = {\n",
    "    'MMEname': 'CorenetMME',\n",
    "    'ServedGUMMEIs' : [\n",
    "        {'servedPLMNs'   : [plmn_str_to_buf(CorenetServer.PLMN)],\n",
    "         'servedGroupIDs': [uint_to_bytes(CorenetServer.MME_GID, 16)],\n",
    "         'servedMMECs'   : [uint_to_bytes(CorenetServer.MME_CODE, 8)]}\n",
    "        ],\n",
    "    'RelativeMMECapacity': 10,\n",
    "    'EquivPLMNList'      : CorenetServer.EQUIV_PLMN,\n",
    "    'EmergNumList'       : CorenetServer.EMERG_NUMS,\n",
    "}\n",
    "CorenetServer.ConfigPDN = {\n",
    "    'corenet': {\n",
    "        'QCI': 9,\n",
    "        'DNS': ((1, '8.8.8.8'), # Google DNS servers\n",
    "                (1, '8.8.4.4'),\n",
    "                (2, '2001:4860:4860::8888'),\n",
    "                (2, '2001:4860:4860::8844')),\n",
    "        'MTU': (None, None),\n",
    "        },\n",
    "}\n",
    "CorenetServer.ConfigPDN['*'] = {\n",
    "        'QCI': 9,\n",
    "        'DNS': ((1, '8.8.8.8'), # Google DNS servers\n",
    "                (1, '8.8.4.4'),\n",
    "                (2, '2001:4860:4860::8888'),\n",
    "                (2, '2001:4860:4860::8844')),\n",
    "        'MTU': (None, None),\n",
    "}"
   ]
  },
  {
   "cell_type": "code",
   "execution_count": 50,
   "metadata": {},
   "outputs": [
    {
     "name": "stderr",
     "output_type": "stream",
     "text": [
      "Exception in thread Thread-6:\n",
      "Traceback (most recent call last):\n",
      "  File \"/usr/local/lib/python3.6/dist-packages/pycrate-0.3-py3.6.egg/pycrate_corenet/Server.py\", line 368, in _start_hnb_server\n",
      "    self._sk_hnb.bind(server_addr)\n",
      "OSError: [Errno 98] Address already in use\n",
      "\n",
      "During handling of the above exception, another exception occurred:\n",
      "\n",
      "Traceback (most recent call last):\n",
      "  File \"/usr/lib/python3.6/threading.py\", line 916, in _bootstrap_inner\n",
      "    self.run()\n",
      "  File \"/usr/lib/python3.6/threading.py\", line 864, in run\n",
      "    self._target(*self._args, **self._kwargs)\n",
      "  File \"/usr/local/lib/python3.6/dist-packages/pycrate-0.3-py3.6.egg/pycrate_corenet/Server.py\", line 311, in start\n",
      "    self._start_hnb_server()\n",
      "  File \"/usr/local/lib/python3.6/dist-packages/pycrate-0.3-py3.6.egg/pycrate_corenet/Server.py\", line 371, in _start_hnb_server\n",
      "    .format(server_addr, err)))\n",
      "pycrate_corenet.utils.CorenetErr: cannot bind SCTP socket on address ('172.18.0.2', 29169): [Errno 98] Address already in use\n",
      "\n"
     ]
    }
   ],
   "source": [
    "Server = CorenetServer()"
   ]
  },
  {
   "cell_type": "code",
   "execution_count": null,
   "metadata": {},
   "outputs": [],
   "source": []
  }
 ],
 "metadata": {
  "kernelspec": {
   "display_name": "Python 3",
   "language": "python",
   "name": "python3"
  },
  "language_info": {
   "codemirror_mode": {
    "name": "ipython",
    "version": 3
   },
   "file_extension": ".py",
   "mimetype": "text/x-python",
   "name": "python",
   "nbconvert_exporter": "python",
   "pygments_lexer": "ipython3",
   "version": "3.6.6"
  }
 },
 "nbformat": 4,
 "nbformat_minor": 2
}
